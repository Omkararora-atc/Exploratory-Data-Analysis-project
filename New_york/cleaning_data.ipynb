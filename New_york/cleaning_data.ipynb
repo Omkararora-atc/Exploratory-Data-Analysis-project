{
 "cells": [
  {
   "metadata": {},
   "cell_type": "markdown",
   "source": "### Importing libraries",
   "id": "899a115357081cb9"
  },
  {
   "metadata": {
    "ExecuteTime": {
     "end_time": "2025-05-28T14:58:30.067319Z",
     "start_time": "2025-05-28T14:58:30.060003Z"
    }
   },
   "cell_type": "code",
   "source": [
    "import pandas as pd\n",
    "import numpy as np\n",
    "import matplotlib.pyplot as plt\n",
    "import seaborn as sns\n"
   ],
   "id": "d1d22b70c62123ae",
   "outputs": [],
   "execution_count": 202
  },
  {
   "metadata": {
    "ExecuteTime": {
     "end_time": "2025-05-28T14:58:30.269166Z",
     "start_time": "2025-05-28T14:58:30.113950Z"
    }
   },
   "cell_type": "code",
   "source": [
    "df=pd.read_csv(\"AB_NYC_2019.csv\")\n",
    "df=pd.DataFrame(df)"
   ],
   "id": "fa301054956b2c8a",
   "outputs": [],
   "execution_count": 203
  },
  {
   "metadata": {
    "ExecuteTime": {
     "end_time": "2025-05-28T14:58:30.376068Z",
     "start_time": "2025-05-28T14:58:30.362219Z"
    }
   },
   "cell_type": "code",
   "source": "df",
   "id": "577caea982d3da",
   "outputs": [
    {
     "data": {
      "text/plain": [
       "         id                                              name  host_id  \\\n",
       "0      2539                Clean & quiet apt home by the park     2787   \n",
       "1      2595                             Skylit Midtown Castle     2845   \n",
       "2      3647               THE VILLAGE OF HARLEM....NEW YORK !     4632   \n",
       "3      3831                   Cozy Entire Floor of Brownstone     4869   \n",
       "4      5022  Entire Apt: Spacious Studio/Loft by central park     7192   \n",
       "...     ...                                               ...      ...   \n",
       "48901  5441                   Central Manhattan/near Broadway     7989   \n",
       "48902  5803    Lovely Room 1, Garden, Best Area, Legal rental     9744   \n",
       "48903  6021  Wonderful Guest Bedroom in Manhattan for SINGLES    11528   \n",
       "48904  6090                     West Village Nest - Superhost    11975   \n",
       "48905  6848                  Only 2 stops to Manhattan studio    15991   \n",
       "\n",
       "           host_name neighbourhood_group    neighbourhood  latitude  \\\n",
       "0               John            Brooklyn       Kensington  40.64749   \n",
       "1           Jennifer           Manhattan          Midtown  40.75362   \n",
       "2          Elisabeth           Manhattan           Harlem  40.80902   \n",
       "3        LisaRoxanne            Brooklyn     Clinton Hill  40.68514   \n",
       "4              Laura           Manhattan      East Harlem  40.79851   \n",
       "...              ...                 ...              ...       ...   \n",
       "48901           Kate           Manhattan   Hell's Kitchen  40.76076   \n",
       "48902         Laurie            Brooklyn      South Slope  40.66829   \n",
       "48903        Claudio           Manhattan  Upper West Side  40.79826   \n",
       "48904          Alina           Manhattan     West Village  40.73530   \n",
       "48905  Allen & Irina            Brooklyn     Williamsburg  40.70837   \n",
       "\n",
       "       longitude        room_type  price  minimum_nights  number_of_reviews  \\\n",
       "0      -73.97237     Private room    149               1                  9   \n",
       "1      -73.98377  Entire home/apt    225               1                 45   \n",
       "2      -73.94190     Private room    150               3                  0   \n",
       "3      -73.95976  Entire home/apt     89               1                270   \n",
       "4      -73.94399  Entire home/apt     80              10                  9   \n",
       "...          ...              ...    ...             ...                ...   \n",
       "48901  -73.98867     Private room     85               2                188   \n",
       "48902  -73.98779     Private room     89               4                167   \n",
       "48903  -73.96113     Private room     85               2                113   \n",
       "48904  -74.00525  Entire home/apt    120              90                 27   \n",
       "48905  -73.95352  Entire home/apt    140               2                148   \n",
       "\n",
       "      last_review  reviews_per_month  calculated_host_listings_count  \\\n",
       "0      19-10-2018               0.21                               6   \n",
       "1      21-05-2019               0.38                               2   \n",
       "2             NaN                NaN                               1   \n",
       "3      05-07-2019               4.64                               1   \n",
       "4      19-11-2018               0.10                               1   \n",
       "...           ...                ...                             ...   \n",
       "48901  23-06-2019               1.50                               1   \n",
       "48902  24-06-2019               1.34                               3   \n",
       "48903  05-07-2019               0.91                               1   \n",
       "48904  31-10-2018               0.22                               1   \n",
       "48905  29-06-2019               1.20                               1   \n",
       "\n",
       "       availability_365  \n",
       "0                   365  \n",
       "1                   355  \n",
       "2                   365  \n",
       "3                   194  \n",
       "4                     0  \n",
       "...                 ...  \n",
       "48901                39  \n",
       "48902               314  \n",
       "48903               333  \n",
       "48904                 0  \n",
       "48905                46  \n",
       "\n",
       "[48906 rows x 16 columns]"
      ],
      "text/html": [
       "<div>\n",
       "<style scoped>\n",
       "    .dataframe tbody tr th:only-of-type {\n",
       "        vertical-align: middle;\n",
       "    }\n",
       "\n",
       "    .dataframe tbody tr th {\n",
       "        vertical-align: top;\n",
       "    }\n",
       "\n",
       "    .dataframe thead th {\n",
       "        text-align: right;\n",
       "    }\n",
       "</style>\n",
       "<table border=\"1\" class=\"dataframe\">\n",
       "  <thead>\n",
       "    <tr style=\"text-align: right;\">\n",
       "      <th></th>\n",
       "      <th>id</th>\n",
       "      <th>name</th>\n",
       "      <th>host_id</th>\n",
       "      <th>host_name</th>\n",
       "      <th>neighbourhood_group</th>\n",
       "      <th>neighbourhood</th>\n",
       "      <th>latitude</th>\n",
       "      <th>longitude</th>\n",
       "      <th>room_type</th>\n",
       "      <th>price</th>\n",
       "      <th>minimum_nights</th>\n",
       "      <th>number_of_reviews</th>\n",
       "      <th>last_review</th>\n",
       "      <th>reviews_per_month</th>\n",
       "      <th>calculated_host_listings_count</th>\n",
       "      <th>availability_365</th>\n",
       "    </tr>\n",
       "  </thead>\n",
       "  <tbody>\n",
       "    <tr>\n",
       "      <th>0</th>\n",
       "      <td>2539</td>\n",
       "      <td>Clean &amp; quiet apt home by the park</td>\n",
       "      <td>2787</td>\n",
       "      <td>John</td>\n",
       "      <td>Brooklyn</td>\n",
       "      <td>Kensington</td>\n",
       "      <td>40.64749</td>\n",
       "      <td>-73.97237</td>\n",
       "      <td>Private room</td>\n",
       "      <td>149</td>\n",
       "      <td>1</td>\n",
       "      <td>9</td>\n",
       "      <td>19-10-2018</td>\n",
       "      <td>0.21</td>\n",
       "      <td>6</td>\n",
       "      <td>365</td>\n",
       "    </tr>\n",
       "    <tr>\n",
       "      <th>1</th>\n",
       "      <td>2595</td>\n",
       "      <td>Skylit Midtown Castle</td>\n",
       "      <td>2845</td>\n",
       "      <td>Jennifer</td>\n",
       "      <td>Manhattan</td>\n",
       "      <td>Midtown</td>\n",
       "      <td>40.75362</td>\n",
       "      <td>-73.98377</td>\n",
       "      <td>Entire home/apt</td>\n",
       "      <td>225</td>\n",
       "      <td>1</td>\n",
       "      <td>45</td>\n",
       "      <td>21-05-2019</td>\n",
       "      <td>0.38</td>\n",
       "      <td>2</td>\n",
       "      <td>355</td>\n",
       "    </tr>\n",
       "    <tr>\n",
       "      <th>2</th>\n",
       "      <td>3647</td>\n",
       "      <td>THE VILLAGE OF HARLEM....NEW YORK !</td>\n",
       "      <td>4632</td>\n",
       "      <td>Elisabeth</td>\n",
       "      <td>Manhattan</td>\n",
       "      <td>Harlem</td>\n",
       "      <td>40.80902</td>\n",
       "      <td>-73.94190</td>\n",
       "      <td>Private room</td>\n",
       "      <td>150</td>\n",
       "      <td>3</td>\n",
       "      <td>0</td>\n",
       "      <td>NaN</td>\n",
       "      <td>NaN</td>\n",
       "      <td>1</td>\n",
       "      <td>365</td>\n",
       "    </tr>\n",
       "    <tr>\n",
       "      <th>3</th>\n",
       "      <td>3831</td>\n",
       "      <td>Cozy Entire Floor of Brownstone</td>\n",
       "      <td>4869</td>\n",
       "      <td>LisaRoxanne</td>\n",
       "      <td>Brooklyn</td>\n",
       "      <td>Clinton Hill</td>\n",
       "      <td>40.68514</td>\n",
       "      <td>-73.95976</td>\n",
       "      <td>Entire home/apt</td>\n",
       "      <td>89</td>\n",
       "      <td>1</td>\n",
       "      <td>270</td>\n",
       "      <td>05-07-2019</td>\n",
       "      <td>4.64</td>\n",
       "      <td>1</td>\n",
       "      <td>194</td>\n",
       "    </tr>\n",
       "    <tr>\n",
       "      <th>4</th>\n",
       "      <td>5022</td>\n",
       "      <td>Entire Apt: Spacious Studio/Loft by central park</td>\n",
       "      <td>7192</td>\n",
       "      <td>Laura</td>\n",
       "      <td>Manhattan</td>\n",
       "      <td>East Harlem</td>\n",
       "      <td>40.79851</td>\n",
       "      <td>-73.94399</td>\n",
       "      <td>Entire home/apt</td>\n",
       "      <td>80</td>\n",
       "      <td>10</td>\n",
       "      <td>9</td>\n",
       "      <td>19-11-2018</td>\n",
       "      <td>0.10</td>\n",
       "      <td>1</td>\n",
       "      <td>0</td>\n",
       "    </tr>\n",
       "    <tr>\n",
       "      <th>...</th>\n",
       "      <td>...</td>\n",
       "      <td>...</td>\n",
       "      <td>...</td>\n",
       "      <td>...</td>\n",
       "      <td>...</td>\n",
       "      <td>...</td>\n",
       "      <td>...</td>\n",
       "      <td>...</td>\n",
       "      <td>...</td>\n",
       "      <td>...</td>\n",
       "      <td>...</td>\n",
       "      <td>...</td>\n",
       "      <td>...</td>\n",
       "      <td>...</td>\n",
       "      <td>...</td>\n",
       "      <td>...</td>\n",
       "    </tr>\n",
       "    <tr>\n",
       "      <th>48901</th>\n",
       "      <td>5441</td>\n",
       "      <td>Central Manhattan/near Broadway</td>\n",
       "      <td>7989</td>\n",
       "      <td>Kate</td>\n",
       "      <td>Manhattan</td>\n",
       "      <td>Hell's Kitchen</td>\n",
       "      <td>40.76076</td>\n",
       "      <td>-73.98867</td>\n",
       "      <td>Private room</td>\n",
       "      <td>85</td>\n",
       "      <td>2</td>\n",
       "      <td>188</td>\n",
       "      <td>23-06-2019</td>\n",
       "      <td>1.50</td>\n",
       "      <td>1</td>\n",
       "      <td>39</td>\n",
       "    </tr>\n",
       "    <tr>\n",
       "      <th>48902</th>\n",
       "      <td>5803</td>\n",
       "      <td>Lovely Room 1, Garden, Best Area, Legal rental</td>\n",
       "      <td>9744</td>\n",
       "      <td>Laurie</td>\n",
       "      <td>Brooklyn</td>\n",
       "      <td>South Slope</td>\n",
       "      <td>40.66829</td>\n",
       "      <td>-73.98779</td>\n",
       "      <td>Private room</td>\n",
       "      <td>89</td>\n",
       "      <td>4</td>\n",
       "      <td>167</td>\n",
       "      <td>24-06-2019</td>\n",
       "      <td>1.34</td>\n",
       "      <td>3</td>\n",
       "      <td>314</td>\n",
       "    </tr>\n",
       "    <tr>\n",
       "      <th>48903</th>\n",
       "      <td>6021</td>\n",
       "      <td>Wonderful Guest Bedroom in Manhattan for SINGLES</td>\n",
       "      <td>11528</td>\n",
       "      <td>Claudio</td>\n",
       "      <td>Manhattan</td>\n",
       "      <td>Upper West Side</td>\n",
       "      <td>40.79826</td>\n",
       "      <td>-73.96113</td>\n",
       "      <td>Private room</td>\n",
       "      <td>85</td>\n",
       "      <td>2</td>\n",
       "      <td>113</td>\n",
       "      <td>05-07-2019</td>\n",
       "      <td>0.91</td>\n",
       "      <td>1</td>\n",
       "      <td>333</td>\n",
       "    </tr>\n",
       "    <tr>\n",
       "      <th>48904</th>\n",
       "      <td>6090</td>\n",
       "      <td>West Village Nest - Superhost</td>\n",
       "      <td>11975</td>\n",
       "      <td>Alina</td>\n",
       "      <td>Manhattan</td>\n",
       "      <td>West Village</td>\n",
       "      <td>40.73530</td>\n",
       "      <td>-74.00525</td>\n",
       "      <td>Entire home/apt</td>\n",
       "      <td>120</td>\n",
       "      <td>90</td>\n",
       "      <td>27</td>\n",
       "      <td>31-10-2018</td>\n",
       "      <td>0.22</td>\n",
       "      <td>1</td>\n",
       "      <td>0</td>\n",
       "    </tr>\n",
       "    <tr>\n",
       "      <th>48905</th>\n",
       "      <td>6848</td>\n",
       "      <td>Only 2 stops to Manhattan studio</td>\n",
       "      <td>15991</td>\n",
       "      <td>Allen &amp; Irina</td>\n",
       "      <td>Brooklyn</td>\n",
       "      <td>Williamsburg</td>\n",
       "      <td>40.70837</td>\n",
       "      <td>-73.95352</td>\n",
       "      <td>Entire home/apt</td>\n",
       "      <td>140</td>\n",
       "      <td>2</td>\n",
       "      <td>148</td>\n",
       "      <td>29-06-2019</td>\n",
       "      <td>1.20</td>\n",
       "      <td>1</td>\n",
       "      <td>46</td>\n",
       "    </tr>\n",
       "  </tbody>\n",
       "</table>\n",
       "<p>48906 rows × 16 columns</p>\n",
       "</div>"
      ]
     },
     "execution_count": 204,
     "metadata": {},
     "output_type": "execute_result"
    }
   ],
   "execution_count": 204
  },
  {
   "metadata": {},
   "cell_type": "markdown",
   "source": "### Checking information about the dataset",
   "id": "11fbb64bbf5944c3"
  },
  {
   "metadata": {
    "ExecuteTime": {
     "end_time": "2025-05-28T14:58:30.499559Z",
     "start_time": "2025-05-28T14:58:30.481489Z"
    }
   },
   "cell_type": "code",
   "source": "df.info()",
   "id": "ac44f2994abd104e",
   "outputs": [
    {
     "name": "stdout",
     "output_type": "stream",
     "text": [
      "<class 'pandas.core.frame.DataFrame'>\n",
      "RangeIndex: 48906 entries, 0 to 48905\n",
      "Data columns (total 16 columns):\n",
      " #   Column                          Non-Null Count  Dtype  \n",
      "---  ------                          --------------  -----  \n",
      " 0   id                              48906 non-null  int64  \n",
      " 1   name                            48890 non-null  object \n",
      " 2   host_id                         48906 non-null  int64  \n",
      " 3   host_name                       48885 non-null  object \n",
      " 4   neighbourhood_group             48906 non-null  object \n",
      " 5   neighbourhood                   48906 non-null  object \n",
      " 6   latitude                        48906 non-null  float64\n",
      " 7   longitude                       48906 non-null  float64\n",
      " 8   room_type                       48906 non-null  object \n",
      " 9   price                           48906 non-null  int64  \n",
      " 10  minimum_nights                  48906 non-null  int64  \n",
      " 11  number_of_reviews               48906 non-null  int64  \n",
      " 12  last_review                     38854 non-null  object \n",
      " 13  reviews_per_month               38854 non-null  float64\n",
      " 14  calculated_host_listings_count  48906 non-null  int64  \n",
      " 15  availability_365                48906 non-null  int64  \n",
      "dtypes: float64(3), int64(7), object(6)\n",
      "memory usage: 6.0+ MB\n"
     ]
    }
   ],
   "execution_count": 205
  },
  {
   "metadata": {
    "ExecuteTime": {
     "end_time": "2025-05-28T14:58:30.709571Z",
     "start_time": "2025-05-28T14:58:30.668895Z"
    }
   },
   "cell_type": "code",
   "source": "df.describe()",
   "id": "5e2e2c83c928382c",
   "outputs": [
    {
     "data": {
      "text/plain": [
       "                 id       host_id      latitude     longitude         price  \\\n",
       "count  4.890600e+04  4.890600e+04  48906.000000  48906.000000  48906.000000   \n",
       "mean   1.901287e+07  6.760480e+07     40.728952    -73.952175    152.711324   \n",
       "std    1.098557e+07  7.860866e+07      0.054529      0.046154    240.128713   \n",
       "min    2.539000e+03  2.438000e+03     40.499790    -74.244420      0.000000   \n",
       "25%    9.464662e+06  7.809567e+06     40.690100    -73.983080     69.000000   \n",
       "50%    1.967545e+07  3.078463e+07     40.723080    -73.955685    106.000000   \n",
       "75%    2.915085e+07  1.074344e+08     40.763120    -73.936283    175.000000   \n",
       "max    3.648724e+07  2.743213e+08     40.913060    -73.712990  10000.000000   \n",
       "\n",
       "       minimum_nights  number_of_reviews  reviews_per_month  \\\n",
       "count    48906.000000       48906.000000       38854.000000   \n",
       "mean         7.031612          23.300454           1.373151   \n",
       "std         20.512489          44.607175           1.680270   \n",
       "min          1.000000           0.000000           0.010000   \n",
       "25%          1.000000           1.000000           0.190000   \n",
       "50%          3.000000           5.000000           0.720000   \n",
       "75%          5.000000          24.000000           2.020000   \n",
       "max       1250.000000         629.000000          58.500000   \n",
       "\n",
       "       calculated_host_listings_count  availability_365  \n",
       "count                    48906.000000      48906.000000  \n",
       "mean                         7.142702        112.782031  \n",
       "std                         32.948926        131.620370  \n",
       "min                          1.000000          0.000000  \n",
       "25%                          1.000000          0.000000  \n",
       "50%                          1.000000         45.000000  \n",
       "75%                          2.000000        227.000000  \n",
       "max                        327.000000        365.000000  "
      ],
      "text/html": [
       "<div>\n",
       "<style scoped>\n",
       "    .dataframe tbody tr th:only-of-type {\n",
       "        vertical-align: middle;\n",
       "    }\n",
       "\n",
       "    .dataframe tbody tr th {\n",
       "        vertical-align: top;\n",
       "    }\n",
       "\n",
       "    .dataframe thead th {\n",
       "        text-align: right;\n",
       "    }\n",
       "</style>\n",
       "<table border=\"1\" class=\"dataframe\">\n",
       "  <thead>\n",
       "    <tr style=\"text-align: right;\">\n",
       "      <th></th>\n",
       "      <th>id</th>\n",
       "      <th>host_id</th>\n",
       "      <th>latitude</th>\n",
       "      <th>longitude</th>\n",
       "      <th>price</th>\n",
       "      <th>minimum_nights</th>\n",
       "      <th>number_of_reviews</th>\n",
       "      <th>reviews_per_month</th>\n",
       "      <th>calculated_host_listings_count</th>\n",
       "      <th>availability_365</th>\n",
       "    </tr>\n",
       "  </thead>\n",
       "  <tbody>\n",
       "    <tr>\n",
       "      <th>count</th>\n",
       "      <td>4.890600e+04</td>\n",
       "      <td>4.890600e+04</td>\n",
       "      <td>48906.000000</td>\n",
       "      <td>48906.000000</td>\n",
       "      <td>48906.000000</td>\n",
       "      <td>48906.000000</td>\n",
       "      <td>48906.000000</td>\n",
       "      <td>38854.000000</td>\n",
       "      <td>48906.000000</td>\n",
       "      <td>48906.000000</td>\n",
       "    </tr>\n",
       "    <tr>\n",
       "      <th>mean</th>\n",
       "      <td>1.901287e+07</td>\n",
       "      <td>6.760480e+07</td>\n",
       "      <td>40.728952</td>\n",
       "      <td>-73.952175</td>\n",
       "      <td>152.711324</td>\n",
       "      <td>7.031612</td>\n",
       "      <td>23.300454</td>\n",
       "      <td>1.373151</td>\n",
       "      <td>7.142702</td>\n",
       "      <td>112.782031</td>\n",
       "    </tr>\n",
       "    <tr>\n",
       "      <th>std</th>\n",
       "      <td>1.098557e+07</td>\n",
       "      <td>7.860866e+07</td>\n",
       "      <td>0.054529</td>\n",
       "      <td>0.046154</td>\n",
       "      <td>240.128713</td>\n",
       "      <td>20.512489</td>\n",
       "      <td>44.607175</td>\n",
       "      <td>1.680270</td>\n",
       "      <td>32.948926</td>\n",
       "      <td>131.620370</td>\n",
       "    </tr>\n",
       "    <tr>\n",
       "      <th>min</th>\n",
       "      <td>2.539000e+03</td>\n",
       "      <td>2.438000e+03</td>\n",
       "      <td>40.499790</td>\n",
       "      <td>-74.244420</td>\n",
       "      <td>0.000000</td>\n",
       "      <td>1.000000</td>\n",
       "      <td>0.000000</td>\n",
       "      <td>0.010000</td>\n",
       "      <td>1.000000</td>\n",
       "      <td>0.000000</td>\n",
       "    </tr>\n",
       "    <tr>\n",
       "      <th>25%</th>\n",
       "      <td>9.464662e+06</td>\n",
       "      <td>7.809567e+06</td>\n",
       "      <td>40.690100</td>\n",
       "      <td>-73.983080</td>\n",
       "      <td>69.000000</td>\n",
       "      <td>1.000000</td>\n",
       "      <td>1.000000</td>\n",
       "      <td>0.190000</td>\n",
       "      <td>1.000000</td>\n",
       "      <td>0.000000</td>\n",
       "    </tr>\n",
       "    <tr>\n",
       "      <th>50%</th>\n",
       "      <td>1.967545e+07</td>\n",
       "      <td>3.078463e+07</td>\n",
       "      <td>40.723080</td>\n",
       "      <td>-73.955685</td>\n",
       "      <td>106.000000</td>\n",
       "      <td>3.000000</td>\n",
       "      <td>5.000000</td>\n",
       "      <td>0.720000</td>\n",
       "      <td>1.000000</td>\n",
       "      <td>45.000000</td>\n",
       "    </tr>\n",
       "    <tr>\n",
       "      <th>75%</th>\n",
       "      <td>2.915085e+07</td>\n",
       "      <td>1.074344e+08</td>\n",
       "      <td>40.763120</td>\n",
       "      <td>-73.936283</td>\n",
       "      <td>175.000000</td>\n",
       "      <td>5.000000</td>\n",
       "      <td>24.000000</td>\n",
       "      <td>2.020000</td>\n",
       "      <td>2.000000</td>\n",
       "      <td>227.000000</td>\n",
       "    </tr>\n",
       "    <tr>\n",
       "      <th>max</th>\n",
       "      <td>3.648724e+07</td>\n",
       "      <td>2.743213e+08</td>\n",
       "      <td>40.913060</td>\n",
       "      <td>-73.712990</td>\n",
       "      <td>10000.000000</td>\n",
       "      <td>1250.000000</td>\n",
       "      <td>629.000000</td>\n",
       "      <td>58.500000</td>\n",
       "      <td>327.000000</td>\n",
       "      <td>365.000000</td>\n",
       "    </tr>\n",
       "  </tbody>\n",
       "</table>\n",
       "</div>"
      ]
     },
     "execution_count": 206,
     "metadata": {},
     "output_type": "execute_result"
    }
   ],
   "execution_count": 206
  },
  {
   "metadata": {
    "ExecuteTime": {
     "end_time": "2025-05-28T14:58:31.054065Z",
     "start_time": "2025-05-28T14:58:31.045956Z"
    }
   },
   "cell_type": "code",
   "source": "df.columns",
   "id": "f4026bd6cfe7bd05",
   "outputs": [
    {
     "data": {
      "text/plain": [
       "Index(['id', 'name', 'host_id', 'host_name', 'neighbourhood_group',\n",
       "       'neighbourhood', 'latitude', 'longitude', 'room_type', 'price',\n",
       "       'minimum_nights', 'number_of_reviews', 'last_review',\n",
       "       'reviews_per_month', 'calculated_host_listings_count',\n",
       "       'availability_365'],\n",
       "      dtype='object')"
      ]
     },
     "execution_count": 207,
     "metadata": {},
     "output_type": "execute_result"
    }
   ],
   "execution_count": 207
  },
  {
   "metadata": {},
   "cell_type": "markdown",
   "source": "#### Checking for null values",
   "id": "c46c1f62caa1c18b"
  },
  {
   "metadata": {
    "ExecuteTime": {
     "end_time": "2025-05-28T14:58:31.275755Z",
     "start_time": "2025-05-28T14:58:31.236189Z"
    }
   },
   "cell_type": "code",
   "source": "df.isnull().sum()",
   "id": "3829412dddf8f681",
   "outputs": [
    {
     "data": {
      "text/plain": [
       "id                                    0\n",
       "name                                 16\n",
       "host_id                               0\n",
       "host_name                            21\n",
       "neighbourhood_group                   0\n",
       "neighbourhood                         0\n",
       "latitude                              0\n",
       "longitude                             0\n",
       "room_type                             0\n",
       "price                                 0\n",
       "minimum_nights                        0\n",
       "number_of_reviews                     0\n",
       "last_review                       10052\n",
       "reviews_per_month                 10052\n",
       "calculated_host_listings_count        0\n",
       "availability_365                      0\n",
       "dtype: int64"
      ]
     },
     "execution_count": 208,
     "metadata": {},
     "output_type": "execute_result"
    }
   ],
   "execution_count": 208
  },
  {
   "metadata": {},
   "cell_type": "markdown",
   "source": "#### Filling null values",
   "id": "bc46338abce4434d"
  },
  {
   "metadata": {
    "ExecuteTime": {
     "end_time": "2025-05-28T14:58:31.473506Z",
     "start_time": "2025-05-28T14:58:31.456495Z"
    }
   },
   "cell_type": "code",
   "source": [
    "df['host_name']=df['host_name'].fillna('Not_available')\n",
    "df['name']=df['name'].fillna('Not_available')"
   ],
   "id": "e28ab1a1b64026fb",
   "outputs": [],
   "execution_count": 209
  },
  {
   "metadata": {
    "ExecuteTime": {
     "end_time": "2025-05-28T14:58:31.659641Z",
     "start_time": "2025-05-28T14:58:31.638134Z"
    }
   },
   "cell_type": "code",
   "source": "df.isnull().sum()",
   "id": "58594f6472aac9ac",
   "outputs": [
    {
     "data": {
      "text/plain": [
       "id                                    0\n",
       "name                                  0\n",
       "host_id                               0\n",
       "host_name                             0\n",
       "neighbourhood_group                   0\n",
       "neighbourhood                         0\n",
       "latitude                              0\n",
       "longitude                             0\n",
       "room_type                             0\n",
       "price                                 0\n",
       "minimum_nights                        0\n",
       "number_of_reviews                     0\n",
       "last_review                       10052\n",
       "reviews_per_month                 10052\n",
       "calculated_host_listings_count        0\n",
       "availability_365                      0\n",
       "dtype: int64"
      ]
     },
     "execution_count": 210,
     "metadata": {},
     "output_type": "execute_result"
    }
   ],
   "execution_count": 210
  },
  {
   "metadata": {
    "ExecuteTime": {
     "end_time": "2025-05-28T14:58:31.815405Z",
     "start_time": "2025-05-28T14:58:31.797765Z"
    }
   },
   "cell_type": "code",
   "source": [
    "df['last_review']=df['last_review'].fillna('Not_reviewed')\n",
    "df['reviews_per_month']=df['reviews_per_month'].fillna('0')"
   ],
   "id": "2a7fd86cc335785",
   "outputs": [],
   "execution_count": 211
  },
  {
   "metadata": {
    "ExecuteTime": {
     "end_time": "2025-05-28T14:58:32.000994Z",
     "start_time": "2025-05-28T14:58:31.975706Z"
    }
   },
   "cell_type": "code",
   "source": "df.isnull().sum()",
   "id": "5d51611c8fdfd5eb",
   "outputs": [
    {
     "data": {
      "text/plain": [
       "id                                0\n",
       "name                              0\n",
       "host_id                           0\n",
       "host_name                         0\n",
       "neighbourhood_group               0\n",
       "neighbourhood                     0\n",
       "latitude                          0\n",
       "longitude                         0\n",
       "room_type                         0\n",
       "price                             0\n",
       "minimum_nights                    0\n",
       "number_of_reviews                 0\n",
       "last_review                       0\n",
       "reviews_per_month                 0\n",
       "calculated_host_listings_count    0\n",
       "availability_365                  0\n",
       "dtype: int64"
      ]
     },
     "execution_count": 212,
     "metadata": {},
     "output_type": "execute_result"
    }
   ],
   "execution_count": 212
  },
  {
   "metadata": {},
   "cell_type": "markdown",
   "source": "### Changing the Data Types",
   "id": "5918581291c6dae2"
  },
  {
   "metadata": {
    "ExecuteTime": {
     "end_time": "2025-05-28T14:58:32.218637Z",
     "start_time": "2025-05-28T14:58:32.214041Z"
    }
   },
   "cell_type": "code",
   "source": [
    "def change(df, arr):\n",
    "    for i in arr:\n",
    "        if i in df.columns:\n",
    "            df[i] = df[i].astype(str)\n",
    "    return df"
   ],
   "id": "9d42a20fdc52fae",
   "outputs": [],
   "execution_count": 213
  },
  {
   "metadata": {
    "ExecuteTime": {
     "end_time": "2025-05-28T14:58:32.482038Z",
     "start_time": "2025-05-28T14:58:32.385910Z"
    }
   },
   "cell_type": "code",
   "source": [
    "arr = ['id', 'host_id', 'longitude', 'latitude', 'calculated_host_listings_count', 'availability_365']\n",
    "df = change(df, arr)"
   ],
   "id": "78ccc1cbb329e652",
   "outputs": [],
   "execution_count": 214
  },
  {
   "metadata": {
    "ExecuteTime": {
     "end_time": "2025-05-28T14:58:32.612621Z",
     "start_time": "2025-05-28T14:58:32.601179Z"
    }
   },
   "cell_type": "code",
   "source": "df['reviews_per_month']= df['reviews_per_month'].astype(float)",
   "id": "90ea4579f833a93e",
   "outputs": [],
   "execution_count": 215
  },
  {
   "metadata": {},
   "cell_type": "markdown",
   "source": "#### treating outliers in the price column",
   "id": "8b0276f42bf017d5"
  },
  {
   "metadata": {
    "ExecuteTime": {
     "end_time": "2025-05-28T14:58:32.710494Z",
     "start_time": "2025-05-28T14:58:32.699686Z"
    }
   },
   "cell_type": "code",
   "source": "df['price'].describe()",
   "id": "73b248910c5ff4ed",
   "outputs": [
    {
     "data": {
      "text/plain": [
       "count    48906.000000\n",
       "mean       152.711324\n",
       "std        240.128713\n",
       "min          0.000000\n",
       "25%         69.000000\n",
       "50%        106.000000\n",
       "75%        175.000000\n",
       "max      10000.000000\n",
       "Name: price, dtype: float64"
      ]
     },
     "execution_count": 216,
     "metadata": {},
     "output_type": "execute_result"
    }
   ],
   "execution_count": 216
  },
  {
   "metadata": {
    "ExecuteTime": {
     "end_time": "2025-05-28T14:58:32.984615Z",
     "start_time": "2025-05-28T14:58:32.840017Z"
    }
   },
   "cell_type": "code",
   "source": [
    "sns.boxplot(x='price',data=df)\n",
    "plt.show()"
   ],
   "id": "7cad5e3a07d7e270",
   "outputs": [
    {
     "data": {
      "text/plain": [
       "<Figure size 640x480 with 1 Axes>"
      ],
      "image/png": "[encoded data removed]"
     },
     "metadata": {},
     "output_type": "display_data"
    }
   ],
   "execution_count": 217
  },
  {
   "metadata": {
    "ExecuteTime": {
     "end_time": "2025-05-28T14:58:34.510222Z",
     "start_time": "2025-05-28T14:58:33.166818Z"
    }
   },
   "cell_type": "code",
   "source": [
    "sns.histplot(x='price',data=df)\n",
    "plt.show()"
   ],
   "id": "ec3d543aa73c7e68",
   "outputs": [
    {
     "data": {
      "text/plain": [
       "<Figure size 640x480 with 1 Axes>"
      ],
      "image/png": "[encoded data removed]"
     },
     "metadata": {},
     "output_type": "display_data"
    }
   ],
   "execution_count": 218
  },
  {
   "metadata": {},
   "cell_type": "markdown",
   "source": [
    "### **Observations**\n",
    "##### - The price column has some outliers.\n",
    "##### - The price column has a maximum value of 100000, which is an outlier.\n",
    "##### - the price column has skewness."
   ],
   "id": "660c4c99fcff2621"
  },
  {
   "metadata": {
    "ExecuteTime": {
     "end_time": "2025-05-28T14:58:34.548051Z",
     "start_time": "2025-05-28T14:58:34.535802Z"
    }
   },
   "cell_type": "code",
   "source": [
    "q1_price=df['price'].quantile(0.10)\n",
    "q3_price=df['price'].quantile(0.90)\n",
    "q1_price, q3_price"
   ],
   "id": "21818e80e289f297",
   "outputs": [
    {
     "data": {
      "text/plain": [
       "(np.float64(49.0), np.float64(269.0))"
      ]
     },
     "execution_count": 219,
     "metadata": {},
     "output_type": "execute_result"
    }
   ],
   "execution_count": 219
  },
  {
   "metadata": {
    "ExecuteTime": {
     "end_time": "2025-05-28T14:58:34.624353Z",
     "start_time": "2025-05-28T14:58:34.609754Z"
    }
   },
   "cell_type": "code",
   "source": "df[(df['price']<q1_price) | (df['price']>q3_price)].shape",
   "id": "51fbb1e4f8e0ea9e",
   "outputs": [
    {
     "data": {
      "text/plain": [
       "(9560, 16)"
      ]
     },
     "execution_count": 220,
     "metadata": {},
     "output_type": "execute_result"
    }
   ],
   "execution_count": 220
  },
  {
   "metadata": {
    "ExecuteTime": {
     "end_time": "2025-05-28T14:58:34.699496Z",
     "start_time": "2025-05-28T14:58:34.694084Z"
    }
   },
   "cell_type": "code",
   "source": [
    "df['price']= np.where(df['price']<q1_price, q1_price, df['price'])\n",
    "df['price']= np.where(df['price']>q3_price, q3_price, df['price'])"
   ],
   "id": "43005ee85633751a",
   "outputs": [],
   "execution_count": 221
  },
  {
   "metadata": {
    "ExecuteTime": {
     "end_time": "2025-05-28T14:58:34.893225Z",
     "start_time": "2025-05-28T14:58:34.763900Z"
    }
   },
   "cell_type": "code",
   "source": [
    "sns.histplot(x='price',data=df)\n",
    "plt.show()"
   ],
   "id": "1cc5b8e051cfc43a",
   "outputs": [
    {
     "data": {
      "text/plain": [
       "<Figure size 640x480 with 1 Axes>"
      ],
      "image/png": "[encoded data removed]"
     },
     "metadata": {},
     "output_type": "display_data"
    }
   ],
   "execution_count": 222
  },
  {
   "metadata": {
    "ExecuteTime": {
     "end_time": "2025-05-28T14:58:35.022304Z",
     "start_time": "2025-05-28T14:58:34.912012Z"
    }
   },
   "cell_type": "code",
   "source": [
    "sns.boxplot(x='price',data=df)\n",
    "plt.show()"
   ],
   "id": "a98a2cbf74b51a84",
   "outputs": [
    {
     "data": {
      "text/plain": [
       "<Figure size 640x480 with 1 Axes>"
      ],
      "image/png": "[encoded data removed]"
     },
     "metadata": {},
     "output_type": "display_data"
    }
   ],
   "execution_count": 223
  },
  {
   "metadata": {
    "ExecuteTime": {
     "end_time": "2025-05-28T14:58:35.091717Z",
     "start_time": "2025-05-28T14:58:35.060032Z"
    }
   },
   "cell_type": "code",
   "source": [
    "num_cols = df.select_dtypes(include='number').columns\n",
    "for col in num_cols:\n",
    "    Q1 = df[col].quantile(0.25)\n",
    "    Q3 = df[col].quantile(0.75)\n",
    "    IQR = Q3 - Q1\n",
    "    lower = Q1 - 1.5 * IQR\n",
    "    upper = Q3 + 1.5 * IQR\n",
    "    outliers = df[(df[col] < lower) | (df[col] > upper)]\n",
    "    print(f\"{col}: {len(outliers)} outliers\")\n"
   ],
   "id": "58227a2a7f30bcc8",
   "outputs": [
    {
     "name": "stdout",
     "output_type": "stream",
     "text": [
      "price: 0 outliers\n",
      "minimum_nights: 6609 outliers\n",
      "number_of_reviews: 6029 outliers\n",
      "reviews_per_month: 3312 outliers\n"
     ]
    }
   ],
   "execution_count": 224
  },
  {
   "metadata": {},
   "cell_type": "markdown",
   "source": "",
   "id": "12a5de12dd71dff2"
  },
  {
   "metadata": {
    "ExecuteTime": {
     "end_time": "2025-05-28T14:58:35.183723Z",
     "start_time": "2025-05-28T14:58:35.167184Z"
    }
   },
   "cell_type": "code",
   "source": [
    "Q1 = df['minimum_nights'].quantile(0.25)\n",
    "Q3 = df['minimum_nights'].quantile(0.75)\n",
    "IQR = Q3 - Q1\n",
    "lower_bound = Q1 - 1.5 * IQR\n",
    "upper_bound = Q3 + 1.5 * IQR\n",
    "df['minimum_nights'] = np.where(df['minimum_nights'] < lower_bound, lower_bound, df['minimum_nights'])\n",
    "df['minimum_nights'] = np.where(df['minimum_nights'] > upper_bound, upper_bound, df['minimum_nights'])\n",
    "Q1 = df['number_of_reviews'].quantile(0.25)\n",
    "Q3 = df['number_of_reviews'].quantile(0.75)\n",
    "IQR = Q3 - Q1\n",
    "lower_bound = Q1 - 1.5 * IQR\n",
    "upper_bound = Q3 + 1.5 * IQR\n",
    "df['number_of_reviews'] = np.where(df['number_of_reviews'] < lower_bound, lower_bound, df['number_of_reviews'])\n",
    "df['number_of_reviews'] = np.where(df['number_of_reviews'] > upper_bound, upper_bound, df['number_of_reviews'])\n",
    "Q1 = df['reviews_per_month'].quantile(0.25)\n",
    "Q3 = df['reviews_per_month'].quantile(0.75)\n",
    "IQR = Q3 - Q1\n",
    "lower_bound = Q1 - 1.5 * IQR\n",
    "upper_bound = Q3 + 1.5 * IQR\n",
    "df['reviews_per_month'] = np.where(df['reviews_per_month'] < lower_bound, lower_bound, df['reviews_per_month'])\n",
    "df['reviews_per_month'] = np.where(df['reviews_per_month'] > upper_bound, upper_bound, df['reviews_per_month'])"
   ],
   "id": "530e70d0392885ee",
   "outputs": [],
   "execution_count": 225
  },
  {
   "metadata": {
    "ExecuteTime": {
     "end_time": "2025-05-28T14:58:35.270904Z",
     "start_time": "2025-05-28T14:58:35.241644Z"
    }
   },
   "cell_type": "code",
   "source": "df.describe()",
   "id": "c4758b7fc6397ebb",
   "outputs": [
    {
     "data": {
      "text/plain": [
       "              price  minimum_nights  number_of_reviews  reviews_per_month\n",
       "count  48906.000000    48906.000000       48906.000000       48906.000000\n",
       "mean     128.942277        3.825379          15.682871           0.986610\n",
       "std       71.553301        3.320746          20.355932           1.238133\n",
       "min       49.000000        1.000000           0.000000           0.000000\n",
       "25%       69.000000        1.000000           1.000000           0.040000\n",
       "50%      106.000000        3.000000           5.000000           0.370000\n",
       "75%      175.000000        5.000000          24.000000           1.580000\n",
       "max      269.000000       11.000000          58.500000           3.890000"
      ],
      "text/html": [
       "<div>\n",
       "<style scoped>\n",
       "    .dataframe tbody tr th:only-of-type {\n",
       "        vertical-align: middle;\n",
       "    }\n",
       "\n",
       "    .dataframe tbody tr th {\n",
       "        vertical-align: top;\n",
       "    }\n",
       "\n",
       "    .dataframe thead th {\n",
       "        text-align: right;\n",
       "    }\n",
       "</style>\n",
       "<table border=\"1\" class=\"dataframe\">\n",
       "  <thead>\n",
       "    <tr style=\"text-align: right;\">\n",
       "      <th></th>\n",
       "      <th>price</th>\n",
       "      <th>minimum_nights</th>\n",
       "      <th>number_of_reviews</th>\n",
       "      <th>reviews_per_month</th>\n",
       "    </tr>\n",
       "  </thead>\n",
       "  <tbody>\n",
       "    <tr>\n",
       "      <th>count</th>\n",
       "      <td>48906.000000</td>\n",
       "      <td>48906.000000</td>\n",
       "      <td>48906.000000</td>\n",
       "      <td>48906.000000</td>\n",
       "    </tr>\n",
       "    <tr>\n",
       "      <th>mean</th>\n",
       "      <td>128.942277</td>\n",
       "      <td>3.825379</td>\n",
       "      <td>15.682871</td>\n",
       "      <td>0.986610</td>\n",
       "    </tr>\n",
       "    <tr>\n",
       "      <th>std</th>\n",
       "      <td>71.553301</td>\n",
       "      <td>3.320746</td>\n",
       "      <td>20.355932</td>\n",
       "      <td>1.238133</td>\n",
       "    </tr>\n",
       "    <tr>\n",
       "      <th>min</th>\n",
       "      <td>49.000000</td>\n",
       "      <td>1.000000</td>\n",
       "      <td>0.000000</td>\n",
       "      <td>0.000000</td>\n",
       "    </tr>\n",
       "    <tr>\n",
       "      <th>25%</th>\n",
       "      <td>69.000000</td>\n",
       "      <td>1.000000</td>\n",
       "      <td>1.000000</td>\n",
       "      <td>0.040000</td>\n",
       "    </tr>\n",
       "    <tr>\n",
       "      <th>50%</th>\n",
       "      <td>106.000000</td>\n",
       "      <td>3.000000</td>\n",
       "      <td>5.000000</td>\n",
       "      <td>0.370000</td>\n",
       "    </tr>\n",
       "    <tr>\n",
       "      <th>75%</th>\n",
       "      <td>175.000000</td>\n",
       "      <td>5.000000</td>\n",
       "      <td>24.000000</td>\n",
       "      <td>1.580000</td>\n",
       "    </tr>\n",
       "    <tr>\n",
       "      <th>max</th>\n",
       "      <td>269.000000</td>\n",
       "      <td>11.000000</td>\n",
       "      <td>58.500000</td>\n",
       "      <td>3.890000</td>\n",
       "    </tr>\n",
       "  </tbody>\n",
       "</table>\n",
       "</div>"
      ]
     },
     "execution_count": 226,
     "metadata": {},
     "output_type": "execute_result"
    }
   ],
   "execution_count": 226
  },
  {
   "metadata": {},
   "cell_type": "markdown",
   "source": "#### visualizing the data after removing outliers",
   "id": "b56ee29d4cf4b22e"
  },
  {
   "metadata": {
    "ExecuteTime": {
     "end_time": "2025-05-28T14:58:36.117835Z",
     "start_time": "2025-05-28T14:58:35.614908Z"
    }
   },
   "cell_type": "code",
   "source": [
    "def visual(arr):\n",
    "    for i in arr:\n",
    "        sns.boxplot(x=i, data=df)\n",
    "        plt.show()\n",
    "\n",
    "arr = ['price', 'minimum_nights', 'number_of_reviews', 'reviews_per_month']\n",
    "visual(arr)"
   ],
   "id": "5fef9c58f1d74a82",
   "outputs": [
    {
     "data": {
      "text/plain": [
       "<Figure size 640x480 with 1 Axes>"
      ],
      "image/png": "[encoded data removed]"
     },
     "metadata": {},
     "output_type": "display_data"
    },
    {
     "data": {
      "text/plain": [
       "<Figure size 640x480 with 1 Axes>"
      ],
      "image/png": "[encoded data removed]"
     },
     "metadata": {},
     "output_type": "display_data"
    },
    {
     "data": {
      "text/plain": [
       "<Figure size 640x480 with 1 Axes>"
      ],
      "image/png": "[encoded data removed]"
     },
     "metadata": {},
     "output_type": "display_data"
    },
    {
     "data": {
      "text/plain": [
       "<Figure size 640x480 with 1 Axes>"
      ],
      "image/png": "[encoded data removed]"
     },
     "metadata": {},
     "output_type": "display_data"
    }
   ],
   "execution_count": 227
  },
  {
   "metadata": {},
   "cell_type": "markdown",
   "source": "### checking for duplicates",
   "id": "1a0943b5e6176e4"
  },
  {
   "metadata": {
    "ExecuteTime": {
     "end_time": "2025-05-28T14:58:36.251135Z",
     "start_time": "2025-05-28T14:58:36.178889Z"
    }
   },
   "cell_type": "code",
   "source": "df.duplicated().sum()",
   "id": "4da26b943a257dc1",
   "outputs": [
    {
     "data": {
      "text/plain": [
       "np.int64(11)"
      ]
     },
     "execution_count": 228,
     "metadata": {},
     "output_type": "execute_result"
    }
   ],
   "execution_count": 228
  },
  {
   "metadata": {},
   "cell_type": "markdown",
   "source": "#### Droping the duplicates",
   "id": "74b787f16d07eb8d"
  },
  {
   "metadata": {
    "ExecuteTime": {
     "end_time": "2025-05-28T14:58:36.469834Z",
     "start_time": "2025-05-28T14:58:36.378041Z"
    }
   },
   "cell_type": "code",
   "source": "df = df[~df.duplicated(keep='last')]",
   "id": "66337f54d7abae93",
   "outputs": [],
   "execution_count": 229
  },
  {
   "metadata": {
    "ExecuteTime": {
     "end_time": "2025-05-28T14:58:36.553856Z",
     "start_time": "2025-05-28T14:58:36.488973Z"
    }
   },
   "cell_type": "code",
   "source": "df.duplicated().sum()",
   "id": "f4477b881b1153d6",
   "outputs": [
    {
     "data": {
      "text/plain": [
       "np.int64(0)"
      ]
     },
     "execution_count": 230,
     "metadata": {},
     "output_type": "execute_result"
    }
   ],
   "execution_count": 230
  },
  {
   "metadata": {},
   "cell_type": "markdown",
   "source": "### Saving the cleaned dataset into the csv file",
   "id": "a49874c4feb2ee50"
  },
  {
   "metadata": {
    "ExecuteTime": {
     "end_time": "2025-05-28T14:58:56.574572Z",
     "start_time": "2025-05-28T14:58:56.221921Z"
    }
   },
   "cell_type": "code",
   "source": "df.to_csv(\"cleaned_new.csv\", index=False)",
   "id": "b407bbfc4f1ec11e",
   "outputs": [],
   "execution_count": 232
  }
 ],
 "metadata": {
  "kernelspec": {
   "display_name": "Python 3",
   "language": "python",
   "name": "python3"
  },
  "language_info": {
   "codemirror_mode": {
    "name": "ipython",
    "version": 2
   },
   "file_extension": ".py",
   "mimetype": "text/x-python",
   "name": "python",
   "nbconvert_exporter": "python",
   "pygments_lexer": "ipython2",
   "version": "2.7.6"
  }
 },
 "nbformat": 4,
 "nbformat_minor": 5
}
