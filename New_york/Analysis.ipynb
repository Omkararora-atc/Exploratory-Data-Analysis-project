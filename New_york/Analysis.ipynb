{
 "cells": [
  {
   "metadata": {},
   "cell_type": "markdown",
   "source": "### Importing Libraries",
   "id": "c9c9f4e30bf2a315"
  },
  {
   "metadata": {
    "ExecuteTime": {
     "end_time": "2025-05-28T15:00:07.552296Z",
     "start_time": "2025-05-28T15:00:07.549637Z"
    }
   },
   "cell_type": "code",
   "source": [
    "import pandas as pd\n",
    "import numpy as np\n",
    "import matplotlib.pyplot as plt\n",
    "import seaborn as sns"
   ],
   "id": "initial_id",
   "outputs": [],
   "execution_count": 1
  },
  {
   "metadata": {},
   "cell_type": "markdown",
   "source": "### Importing Dataset",
   "id": "b7e21ddc87aad944"
  },
  {
   "metadata": {
    "ExecuteTime": {
     "end_time": "2025-05-28T15:00:40.494891Z",
     "start_time": "2025-05-28T15:00:40.331585Z"
    }
   },
   "cell_type": "code",
   "source": [
    "df=pd.read_csv(\"cleaned_new.csv\")\n",
    "df=pd.DataFrame(df)"
   ],
   "id": "b80594c2a3cdd5ed",
   "outputs": [],
   "execution_count": 2
  },
  {
   "metadata": {},
   "cell_type": "markdown",
   "source": "### Checking Information about the Dataset",
   "id": "19e737069dc2d5e3"
  },
  {
   "metadata": {
    "ExecuteTime": {
     "end_time": "2025-05-28T15:00:54.523252Z",
     "start_time": "2025-05-28T15:00:54.500373Z"
    }
   },
   "cell_type": "code",
   "source": "df.head()",
   "id": "bcb178b64577217d",
   "outputs": [
    {
     "data": {
      "text/plain": [
       "     id                                              name  host_id  \\\n",
       "0  2539                Clean & quiet apt home by the park     2787   \n",
       "1  2595                             Skylit Midtown Castle     2845   \n",
       "2  3647               THE VILLAGE OF HARLEM....NEW YORK !     4632   \n",
       "3  3831                   Cozy Entire Floor of Brownstone     4869   \n",
       "4  5022  Entire Apt: Spacious Studio/Loft by central park     7192   \n",
       "\n",
       "     host_name neighbourhood_group neighbourhood  latitude  longitude  \\\n",
       "0         John            Brooklyn    Kensington  40.64749  -73.97237   \n",
       "1     Jennifer           Manhattan       Midtown  40.75362  -73.98377   \n",
       "2    Elisabeth           Manhattan        Harlem  40.80902  -73.94190   \n",
       "3  LisaRoxanne            Brooklyn  Clinton Hill  40.68514  -73.95976   \n",
       "4        Laura           Manhattan   East Harlem  40.79851  -73.94399   \n",
       "\n",
       "         room_type  price  minimum_nights  number_of_reviews   last_review  \\\n",
       "0     Private room  149.0             1.0                9.0    19-10-2018   \n",
       "1  Entire home/apt  225.0             1.0               45.0    21-05-2019   \n",
       "2     Private room  150.0             3.0                0.0  Not_reviewed   \n",
       "3  Entire home/apt   89.0             1.0               58.5    05-07-2019   \n",
       "4  Entire home/apt   80.0            10.0                9.0    19-11-2018   \n",
       "\n",
       "   reviews_per_month  calculated_host_listings_count  availability_365  \n",
       "0               0.21                               6               365  \n",
       "1               0.38                               2               355  \n",
       "2               0.00                               1               365  \n",
       "3               3.89                               1               194  \n",
       "4               0.10                               1                 0  "
      ],
      "text/html": [
       "<div>\n",
       "<style scoped>\n",
       "    .dataframe tbody tr th:only-of-type {\n",
       "        vertical-align: middle;\n",
       "    }\n",
       "\n",
       "    .dataframe tbody tr th {\n",
       "        vertical-align: top;\n",
       "    }\n",
       "\n",
       "    .dataframe thead th {\n",
       "        text-align: right;\n",
       "    }\n",
       "</style>\n",
       "<table border=\"1\" class=\"dataframe\">\n",
       "  <thead>\n",
       "    <tr style=\"text-align: right;\">\n",
       "      <th></th>\n",
       "      <th>id</th>\n",
       "      <th>name</th>\n",
       "      <th>host_id</th>\n",
       "      <th>host_name</th>\n",
       "      <th>neighbourhood_group</th>\n",
       "      <th>neighbourhood</th>\n",
       "      <th>latitude</th>\n",
       "      <th>longitude</th>\n",
       "      <th>room_type</th>\n",
       "      <th>price</th>\n",
       "      <th>minimum_nights</th>\n",
       "      <th>number_of_reviews</th>\n",
       "      <th>last_review</th>\n",
       "      <th>reviews_per_month</th>\n",
       "      <th>calculated_host_listings_count</th>\n",
       "      <th>availability_365</th>\n",
       "    </tr>\n",
       "  </thead>\n",
       "  <tbody>\n",
       "    <tr>\n",
       "      <th>0</th>\n",
       "      <td>2539</td>\n",
       "      <td>Clean &amp; quiet apt home by the park</td>\n",
       "      <td>2787</td>\n",
       "      <td>John</td>\n",
       "      <td>Brooklyn</td>\n",
       "      <td>Kensington</td>\n",
       "      <td>40.64749</td>\n",
       "      <td>-73.97237</td>\n",
       "      <td>Private room</td>\n",
       "      <td>149.0</td>\n",
       "      <td>1.0</td>\n",
       "      <td>9.0</td>\n",
       "      <td>19-10-2018</td>\n",
       "      <td>0.21</td>\n",
       "      <td>6</td>\n",
       "      <td>365</td>\n",
       "    </tr>\n",
       "    <tr>\n",
       "      <th>1</th>\n",
       "      <td>2595</td>\n",
       "      <td>Skylit Midtown Castle</td>\n",
       "      <td>2845</td>\n",
       "      <td>Jennifer</td>\n",
       "      <td>Manhattan</td>\n",
       "      <td>Midtown</td>\n",
       "      <td>40.75362</td>\n",
       "      <td>-73.98377</td>\n",
       "      <td>Entire home/apt</td>\n",
       "      <td>225.0</td>\n",
       "      <td>1.0</td>\n",
       "      <td>45.0</td>\n",
       "      <td>21-05-2019</td>\n",
       "      <td>0.38</td>\n",
       "      <td>2</td>\n",
       "      <td>355</td>\n",
       "    </tr>\n",
       "    <tr>\n",
       "      <th>2</th>\n",
       "      <td>3647</td>\n",
       "      <td>THE VILLAGE OF HARLEM....NEW YORK !</td>\n",
       "      <td>4632</td>\n",
       "      <td>Elisabeth</td>\n",
       "      <td>Manhattan</td>\n",
       "      <td>Harlem</td>\n",
       "      <td>40.80902</td>\n",
       "      <td>-73.94190</td>\n",
       "      <td>Private room</td>\n",
       "      <td>150.0</td>\n",
       "      <td>3.0</td>\n",
       "      <td>0.0</td>\n",
       "      <td>Not_reviewed</td>\n",
       "      <td>0.00</td>\n",
       "      <td>1</td>\n",
       "      <td>365</td>\n",
       "    </tr>\n",
       "    <tr>\n",
       "      <th>3</th>\n",
       "      <td>3831</td>\n",
       "      <td>Cozy Entire Floor of Brownstone</td>\n",
       "      <td>4869</td>\n",
       "      <td>LisaRoxanne</td>\n",
       "      <td>Brooklyn</td>\n",
       "      <td>Clinton Hill</td>\n",
       "      <td>40.68514</td>\n",
       "      <td>-73.95976</td>\n",
       "      <td>Entire home/apt</td>\n",
       "      <td>89.0</td>\n",
       "      <td>1.0</td>\n",
       "      <td>58.5</td>\n",
       "      <td>05-07-2019</td>\n",
       "      <td>3.89</td>\n",
       "      <td>1</td>\n",
       "      <td>194</td>\n",
       "    </tr>\n",
       "    <tr>\n",
       "      <th>4</th>\n",
       "      <td>5022</td>\n",
       "      <td>Entire Apt: Spacious Studio/Loft by central park</td>\n",
       "      <td>7192</td>\n",
       "      <td>Laura</td>\n",
       "      <td>Manhattan</td>\n",
       "      <td>East Harlem</td>\n",
       "      <td>40.79851</td>\n",
       "      <td>-73.94399</td>\n",
       "      <td>Entire home/apt</td>\n",
       "      <td>80.0</td>\n",
       "      <td>10.0</td>\n",
       "      <td>9.0</td>\n",
       "      <td>19-11-2018</td>\n",
       "      <td>0.10</td>\n",
       "      <td>1</td>\n",
       "      <td>0</td>\n",
       "    </tr>\n",
       "  </tbody>\n",
       "</table>\n",
       "</div>"
      ]
     },
     "execution_count": 3,
     "metadata": {},
     "output_type": "execute_result"
    }
   ],
   "execution_count": 3
  },
  {
   "metadata": {
    "ExecuteTime": {
     "end_time": "2025-05-28T15:01:04.098254Z",
     "start_time": "2025-05-28T15:01:04.074565Z"
    }
   },
   "cell_type": "code",
   "source": "df.info()",
   "id": "4f6b865584c9ddad",
   "outputs": [
    {
     "name": "stdout",
     "output_type": "stream",
     "text": [
      "<class 'pandas.core.frame.DataFrame'>\n",
      "RangeIndex: 48895 entries, 0 to 48894\n",
      "Data columns (total 16 columns):\n",
      " #   Column                          Non-Null Count  Dtype  \n",
      "---  ------                          --------------  -----  \n",
      " 0   id                              48895 non-null  int64  \n",
      " 1   name                            48895 non-null  object \n",
      " 2   host_id                         48895 non-null  int64  \n",
      " 3   host_name                       48895 non-null  object \n",
      " 4   neighbourhood_group             48895 non-null  object \n",
      " 5   neighbourhood                   48895 non-null  object \n",
      " 6   latitude                        48895 non-null  float64\n",
      " 7   longitude                       48895 non-null  float64\n",
      " 8   room_type                       48895 non-null  object \n",
      " 9   price                           48895 non-null  float64\n",
      " 10  minimum_nights                  48895 non-null  float64\n",
      " 11  number_of_reviews               48895 non-null  float64\n",
      " 12  last_review                     48895 non-null  object \n",
      " 13  reviews_per_month               48895 non-null  float64\n",
      " 14  calculated_host_listings_count  48895 non-null  int64  \n",
      " 15  availability_365                48895 non-null  int64  \n",
      "dtypes: float64(6), int64(4), object(6)\n",
      "memory usage: 6.0+ MB\n"
     ]
    }
   ],
   "execution_count": 4
  },
  {
   "metadata": {},
   "cell_type": "markdown",
   "source": "### Changing the Data Types",
   "id": "50d565f5832b4293"
  },
  {
   "metadata": {
    "ExecuteTime": {
     "end_time": "2025-05-28T15:01:35.714825Z",
     "start_time": "2025-05-28T15:01:35.709493Z"
    }
   },
   "cell_type": "code",
   "source": [
    "def change(df, arr):\n",
    "    for i in arr:\n",
    "        if i in df.columns:\n",
    "            df[i] = df[i].astype(str)\n",
    "    return df"
   ],
   "id": "9758fd5c3748567e",
   "outputs": [],
   "execution_count": 5
  },
  {
   "metadata": {
    "ExecuteTime": {
     "end_time": "2025-05-28T15:01:39.042692Z",
     "start_time": "2025-05-28T15:01:38.915779Z"
    }
   },
   "cell_type": "code",
   "source": [
    "arr = ['id', 'host_id', 'longitude', 'latitude', 'calculated_host_listings_count', 'availability_365']\n",
    "df = change(df, arr)"
   ],
   "id": "ceeb5eed04f4bc5e",
   "outputs": [],
   "execution_count": 6
  },
  {
   "metadata": {
    "ExecuteTime": {
     "end_time": "2025-05-28T15:01:56.201535Z",
     "start_time": "2025-05-28T15:01:56.169143Z"
    }
   },
   "cell_type": "code",
   "source": "df.describe()",
   "id": "3e5fb7dac9bbdb29",
   "outputs": [
    {
     "data": {
      "text/plain": [
       "              price  minimum_nights  number_of_reviews  reviews_per_month\n",
       "count  48895.000000     48895.00000        48895.00000       48895.000000\n",
       "mean     128.946293         3.82532           15.67419           0.986579\n",
       "std       71.558358         3.32072           20.34953           1.238206\n",
       "min       49.000000         1.00000            0.00000           0.000000\n",
       "25%       69.000000         1.00000            1.00000           0.040000\n",
       "50%      106.000000         3.00000            5.00000           0.370000\n",
       "75%      175.000000         5.00000           24.00000           1.580000\n",
       "max      269.000000        11.00000           58.50000           3.890000"
      ],
      "text/html": [
       "<div>\n",
       "<style scoped>\n",
       "    .dataframe tbody tr th:only-of-type {\n",
       "        vertical-align: middle;\n",
       "    }\n",
       "\n",
       "    .dataframe tbody tr th {\n",
       "        vertical-align: top;\n",
       "    }\n",
       "\n",
       "    .dataframe thead th {\n",
       "        text-align: right;\n",
       "    }\n",
       "</style>\n",
       "<table border=\"1\" class=\"dataframe\">\n",
       "  <thead>\n",
       "    <tr style=\"text-align: right;\">\n",
       "      <th></th>\n",
       "      <th>price</th>\n",
       "      <th>minimum_nights</th>\n",
       "      <th>number_of_reviews</th>\n",
       "      <th>reviews_per_month</th>\n",
       "    </tr>\n",
       "  </thead>\n",
       "  <tbody>\n",
       "    <tr>\n",
       "      <th>count</th>\n",
       "      <td>48895.000000</td>\n",
       "      <td>48895.00000</td>\n",
       "      <td>48895.00000</td>\n",
       "      <td>48895.000000</td>\n",
       "    </tr>\n",
       "    <tr>\n",
       "      <th>mean</th>\n",
       "      <td>128.946293</td>\n",
       "      <td>3.82532</td>\n",
       "      <td>15.67419</td>\n",
       "      <td>0.986579</td>\n",
       "    </tr>\n",
       "    <tr>\n",
       "      <th>std</th>\n",
       "      <td>71.558358</td>\n",
       "      <td>3.32072</td>\n",
       "      <td>20.34953</td>\n",
       "      <td>1.238206</td>\n",
       "    </tr>\n",
       "    <tr>\n",
       "      <th>min</th>\n",
       "      <td>49.000000</td>\n",
       "      <td>1.00000</td>\n",
       "      <td>0.00000</td>\n",
       "      <td>0.000000</td>\n",
       "    </tr>\n",
       "    <tr>\n",
       "      <th>25%</th>\n",
       "      <td>69.000000</td>\n",
       "      <td>1.00000</td>\n",
       "      <td>1.00000</td>\n",
       "      <td>0.040000</td>\n",
       "    </tr>\n",
       "    <tr>\n",
       "      <th>50%</th>\n",
       "      <td>106.000000</td>\n",
       "      <td>3.00000</td>\n",
       "      <td>5.00000</td>\n",
       "      <td>0.370000</td>\n",
       "    </tr>\n",
       "    <tr>\n",
       "      <th>75%</th>\n",
       "      <td>175.000000</td>\n",
       "      <td>5.00000</td>\n",
       "      <td>24.00000</td>\n",
       "      <td>1.580000</td>\n",
       "    </tr>\n",
       "    <tr>\n",
       "      <th>max</th>\n",
       "      <td>269.000000</td>\n",
       "      <td>11.00000</td>\n",
       "      <td>58.50000</td>\n",
       "      <td>3.890000</td>\n",
       "    </tr>\n",
       "  </tbody>\n",
       "</table>\n",
       "</div>"
      ]
     },
     "execution_count": 8,
     "metadata": {},
     "output_type": "execute_result"
    }
   ],
   "execution_count": 8
  },
  {
   "metadata": {},
   "cell_type": "markdown",
   "source": "### Analysis of neighbourhood Groups",
   "id": "c4be98fd2e588ff9"
  },
  {
   "metadata": {
    "ExecuteTime": {
     "end_time": "2025-05-28T15:05:46.681394Z",
     "start_time": "2025-05-28T15:05:46.668779Z"
    }
   },
   "cell_type": "code",
   "source": [
    "neighbourhood_index = df['neighbourhood_group'].value_counts().index\n",
    "neighbourhood_values = df['neighbourhood_group'].value_counts().values"
   ],
   "id": "e7cb43a419f61bc9",
   "outputs": [],
   "execution_count": 9
  },
  {
   "metadata": {
    "ExecuteTime": {
     "end_time": "2025-05-28T15:07:15.156284Z",
     "start_time": "2025-05-28T15:07:15.108026Z"
    }
   },
   "cell_type": "code",
   "source": [
    "plt.figure(figsize=(6,6))## plotting the pie chart of top 3 neighbourhood groups\n",
    "plt.pie(neighbourhood_values[:3], labels=neighbourhood_index[:3], autopct='%1.1f%%', startangle=140)\n",
    "plt.show()\n"
   ],
   "id": "ef83ce11168fc60a",
   "outputs": [
    {
     "data": {
      "text/plain": [
       "<Figure size 600x600 with 1 Axes>"
      ],
      "image/png": "[encoded data removed]"
     },
     "metadata": {},
     "output_type": "display_data"
    }
   ],
   "execution_count": 13
  },
  {
   "metadata": {},
   "cell_type": "markdown",
   "source": "### OBSERVATION--> Manhattan is the most popular neighbourhood group of listings, followed by Brooklyn  and Queens",
   "id": "d7119a04f8f5ac37"
  },
  {
   "metadata": {
    "ExecuteTime": {
     "end_time": "2025-05-28T15:13:11.432766Z",
     "start_time": "2025-05-28T15:13:11.411380Z"
    }
   },
   "cell_type": "code",
   "source": [
    "result = df.value_counts(['neighbourhood_group', 'price']).reset_index(name='counts')\n",
    "result"
   ],
   "id": "a34102b22f133407",
   "outputs": [
    {
     "data": {
      "text/plain": [
       "    neighbourhood_group  price  counts\n",
       "0             Manhattan  269.0    3525\n",
       "1              Brooklyn   49.0    2749\n",
       "2                Queens   49.0    1157\n",
       "3              Brooklyn  269.0    1153\n",
       "4             Manhattan  150.0    1052\n",
       "..                  ...    ...     ...\n",
       "751              Queens  240.0       1\n",
       "752              Queens  246.0       1\n",
       "753               Bronx   92.0       1\n",
       "754               Bronx   93.0       1\n",
       "755               Bronx  101.0       1\n",
       "\n",
       "[756 rows x 3 columns]"
      ],
      "text/html": [
       "<div>\n",
       "<style scoped>\n",
       "    .dataframe tbody tr th:only-of-type {\n",
       "        vertical-align: middle;\n",
       "    }\n",
       "\n",
       "    .dataframe tbody tr th {\n",
       "        vertical-align: top;\n",
       "    }\n",
       "\n",
       "    .dataframe thead th {\n",
       "        text-align: right;\n",
       "    }\n",
       "</style>\n",
       "<table border=\"1\" class=\"dataframe\">\n",
       "  <thead>\n",
       "    <tr style=\"text-align: right;\">\n",
       "      <th></th>\n",
       "      <th>neighbourhood_group</th>\n",
       "      <th>price</th>\n",
       "      <th>counts</th>\n",
       "    </tr>\n",
       "  </thead>\n",
       "  <tbody>\n",
       "    <tr>\n",
       "      <th>0</th>\n",
       "      <td>Manhattan</td>\n",
       "      <td>269.0</td>\n",
       "      <td>3525</td>\n",
       "    </tr>\n",
       "    <tr>\n",
       "      <th>1</th>\n",
       "      <td>Brooklyn</td>\n",
       "      <td>49.0</td>\n",
       "      <td>2749</td>\n",
       "    </tr>\n",
       "    <tr>\n",
       "      <th>2</th>\n",
       "      <td>Queens</td>\n",
       "      <td>49.0</td>\n",
       "      <td>1157</td>\n",
       "    </tr>\n",
       "    <tr>\n",
       "      <th>3</th>\n",
       "      <td>Brooklyn</td>\n",
       "      <td>269.0</td>\n",
       "      <td>1153</td>\n",
       "    </tr>\n",
       "    <tr>\n",
       "      <th>4</th>\n",
       "      <td>Manhattan</td>\n",
       "      <td>150.0</td>\n",
       "      <td>1052</td>\n",
       "    </tr>\n",
       "    <tr>\n",
       "      <th>...</th>\n",
       "      <td>...</td>\n",
       "      <td>...</td>\n",
       "      <td>...</td>\n",
       "    </tr>\n",
       "    <tr>\n",
       "      <th>751</th>\n",
       "      <td>Queens</td>\n",
       "      <td>240.0</td>\n",
       "      <td>1</td>\n",
       "    </tr>\n",
       "    <tr>\n",
       "      <th>752</th>\n",
       "      <td>Queens</td>\n",
       "      <td>246.0</td>\n",
       "      <td>1</td>\n",
       "    </tr>\n",
       "    <tr>\n",
       "      <th>753</th>\n",
       "      <td>Bronx</td>\n",
       "      <td>92.0</td>\n",
       "      <td>1</td>\n",
       "    </tr>\n",
       "    <tr>\n",
       "      <th>754</th>\n",
       "      <td>Bronx</td>\n",
       "      <td>93.0</td>\n",
       "      <td>1</td>\n",
       "    </tr>\n",
       "    <tr>\n",
       "      <th>755</th>\n",
       "      <td>Bronx</td>\n",
       "      <td>101.0</td>\n",
       "      <td>1</td>\n",
       "    </tr>\n",
       "  </tbody>\n",
       "</table>\n",
       "<p>756 rows × 3 columns</p>\n",
       "</div>"
      ]
     },
     "execution_count": 20,
     "metadata": {},
     "output_type": "execute_result"
    }
   ],
   "execution_count": 20
  },
  {
   "metadata": {},
   "cell_type": "markdown",
   "source": "##### Visualizing the count of listings by neighbourhood group and price",
   "id": "2a974b001d5a0da2"
  },
  {
   "metadata": {
    "ExecuteTime": {
     "end_time": "2025-05-28T15:22:12.164442Z",
     "start_time": "2025-05-28T15:22:11.766723Z"
    }
   },
   "cell_type": "code",
   "source": [
    "pivot= result.pivot_table(index='neighbourhood_group', columns='price', values='counts', fill_value=0)\n",
    "plt.figure(figsize=(12,6))\n",
    "sns.heatmap(pivot, cmap='YlGnBu')\n",
    "plt.title('Listings Count by Neighbourhood Group and Price')\n",
    "plt.xlabel('Price')\n",
    "plt.ylabel('Neighbourhood Group')\n",
    "plt.show()"
   ],
   "id": "32fa6ca9e3e62dfb",
   "outputs": [
    {
     "data": {
      "text/plain": [
       "<Figure size 1200x600 with 2 Axes>"
      ],
      "image/png": "[encoded data removed]"
     },
     "metadata": {},
     "output_type": "display_data"
    }
   ],
   "execution_count": 29
  },
  {
   "metadata": {},
   "cell_type": "markdown",
   "source": [
    "### OBSERVATION--> The heatmap shows the count of listings by neighbourhood group and price.\n",
    "#### The darker the color, the higher the count of listings.\n",
    "#### Manhattan has the highest count of listings across all price ranges, followed by Brooklyn and Queens.\n",
    "#### Brooklyn has a significant number of listings in the lower price range, while Staten Island has the least number of listings across all price ranges.\n",
    "#### staten Island has the least number of listings across all price ranges."
   ],
   "id": "3c0296b9d90b63fd"
  },
  {
   "metadata": {},
   "cell_type": "markdown",
   "source": "#### Analysis of Room Types",
   "id": "72eeb3b65e823144"
  },
  {
   "metadata": {
    "ExecuteTime": {
     "end_time": "2025-05-28T15:20:27.090811Z",
     "start_time": "2025-05-28T15:20:27.069723Z"
    }
   },
   "cell_type": "code",
   "source": "df.groupby(['room_type','price']).size().reset_index(name='counts')",
   "id": "afd8dacbeb7271cb",
   "outputs": [
    {
     "data": {
      "text/plain": [
       "           room_type  price  counts\n",
       "0    Entire home/apt   49.0     117\n",
       "1    Entire home/apt   50.0      73\n",
       "2    Entire home/apt   51.0       4\n",
       "3    Entire home/apt   52.0       6\n",
       "4    Entire home/apt   53.0       5\n",
       "..               ...    ...     ...\n",
       "475      Shared room  235.0       1\n",
       "476      Shared room  249.0       1\n",
       "477      Shared room  250.0       4\n",
       "478      Shared room  260.0       1\n",
       "479      Shared room  269.0      29\n",
       "\n",
       "[480 rows x 3 columns]"
      ],
      "text/html": [
       "<div>\n",
       "<style scoped>\n",
       "    .dataframe tbody tr th:only-of-type {\n",
       "        vertical-align: middle;\n",
       "    }\n",
       "\n",
       "    .dataframe tbody tr th {\n",
       "        vertical-align: top;\n",
       "    }\n",
       "\n",
       "    .dataframe thead th {\n",
       "        text-align: right;\n",
       "    }\n",
       "</style>\n",
       "<table border=\"1\" class=\"dataframe\">\n",
       "  <thead>\n",
       "    <tr style=\"text-align: right;\">\n",
       "      <th></th>\n",
       "      <th>room_type</th>\n",
       "      <th>price</th>\n",
       "      <th>counts</th>\n",
       "    </tr>\n",
       "  </thead>\n",
       "  <tbody>\n",
       "    <tr>\n",
       "      <th>0</th>\n",
       "      <td>Entire home/apt</td>\n",
       "      <td>49.0</td>\n",
       "      <td>117</td>\n",
       "    </tr>\n",
       "    <tr>\n",
       "      <th>1</th>\n",
       "      <td>Entire home/apt</td>\n",
       "      <td>50.0</td>\n",
       "      <td>73</td>\n",
       "    </tr>\n",
       "    <tr>\n",
       "      <th>2</th>\n",
       "      <td>Entire home/apt</td>\n",
       "      <td>51.0</td>\n",
       "      <td>4</td>\n",
       "    </tr>\n",
       "    <tr>\n",
       "      <th>3</th>\n",
       "      <td>Entire home/apt</td>\n",
       "      <td>52.0</td>\n",
       "      <td>6</td>\n",
       "    </tr>\n",
       "    <tr>\n",
       "      <th>4</th>\n",
       "      <td>Entire home/apt</td>\n",
       "      <td>53.0</td>\n",
       "      <td>5</td>\n",
       "    </tr>\n",
       "    <tr>\n",
       "      <th>...</th>\n",
       "      <td>...</td>\n",
       "      <td>...</td>\n",
       "      <td>...</td>\n",
       "    </tr>\n",
       "    <tr>\n",
       "      <th>475</th>\n",
       "      <td>Shared room</td>\n",
       "      <td>235.0</td>\n",
       "      <td>1</td>\n",
       "    </tr>\n",
       "    <tr>\n",
       "      <th>476</th>\n",
       "      <td>Shared room</td>\n",
       "      <td>249.0</td>\n",
       "      <td>1</td>\n",
       "    </tr>\n",
       "    <tr>\n",
       "      <th>477</th>\n",
       "      <td>Shared room</td>\n",
       "      <td>250.0</td>\n",
       "      <td>4</td>\n",
       "    </tr>\n",
       "    <tr>\n",
       "      <th>478</th>\n",
       "      <td>Shared room</td>\n",
       "      <td>260.0</td>\n",
       "      <td>1</td>\n",
       "    </tr>\n",
       "    <tr>\n",
       "      <th>479</th>\n",
       "      <td>Shared room</td>\n",
       "      <td>269.0</td>\n",
       "      <td>29</td>\n",
       "    </tr>\n",
       "  </tbody>\n",
       "</table>\n",
       "<p>480 rows × 3 columns</p>\n",
       "</div>"
      ]
     },
     "execution_count": 26,
     "metadata": {},
     "output_type": "execute_result"
    }
   ],
   "execution_count": 26
  },
  {
   "metadata": {
    "ExecuteTime": {
     "end_time": "2025-05-28T15:23:03.138023Z",
     "start_time": "2025-05-28T15:23:02.720783Z"
    }
   },
   "cell_type": "code",
   "source": [
    "pivot= df.pivot_table(index='room_type', columns='price', values='id', aggfunc='count', fill_value=0)\n",
    "plt.figure(figsize=(12,6))\n",
    "sns.heatmap(pivot, cmap='YlGnBu')\n",
    "plt.title('Room Type vs Price')\n",
    "plt.xlabel('Price')\n",
    "plt.ylabel('Room Type')\n",
    "plt.show()\n"
   ],
   "id": "e9d295f6b3259350",
   "outputs": [
    {
     "data": {
      "text/plain": [
       "<Figure size 1200x600 with 2 Axes>"
      ],
      "image/png": "[encoded data removed]"
     },
     "metadata": {},
     "output_type": "display_data"
    }
   ],
   "execution_count": 31
  },
  {
   "metadata": {},
   "cell_type": "markdown",
   "source": [
    "### OBSERVATION--> The heatmap shows the count of listings by room type and price.\n",
    "#### The darker the color, the higher the count of listings.\n",
    "#### Entire home/apt has the highest count of listings across all price ranges, followed by Private room and Shared room.\n",
    "#### Private room has a significant number of listings in the lower price range, while Shared room has the least number of listings across all price ranges.\n",
    "#### Shared room has the least number of listings across all price ranges."
   ],
   "id": "cbde7d3183672d18"
  },
  {
   "metadata": {},
   "cell_type": "markdown",
   "source": "### Analysis of Number of Reviews",
   "id": "cfa946bf7d4fe28c"
  },
  {
   "metadata": {
    "ExecuteTime": {
     "end_time": "2025-05-28T15:29:59.704560Z",
     "start_time": "2025-05-28T15:29:59.670761Z"
    }
   },
   "cell_type": "code",
   "source": "df.head()",
   "id": "7566926e916b9135",
   "outputs": [
    {
     "data": {
      "text/plain": [
       "     id                                              name host_id  \\\n",
       "0  2539                Clean & quiet apt home by the park    2787   \n",
       "1  2595                             Skylit Midtown Castle    2845   \n",
       "2  3647               THE VILLAGE OF HARLEM....NEW YORK !    4632   \n",
       "3  3831                   Cozy Entire Floor of Brownstone    4869   \n",
       "4  5022  Entire Apt: Spacious Studio/Loft by central park    7192   \n",
       "\n",
       "     host_name neighbourhood_group neighbourhood  latitude  longitude  \\\n",
       "0         John            Brooklyn    Kensington  40.64749  -73.97237   \n",
       "1     Jennifer           Manhattan       Midtown  40.75362  -73.98377   \n",
       "2    Elisabeth           Manhattan        Harlem  40.80902   -73.9419   \n",
       "3  LisaRoxanne            Brooklyn  Clinton Hill  40.68514  -73.95976   \n",
       "4        Laura           Manhattan   East Harlem  40.79851  -73.94399   \n",
       "\n",
       "         room_type  price  minimum_nights  number_of_reviews   last_review  \\\n",
       "0     Private room  149.0             1.0                9.0    19-10-2018   \n",
       "1  Entire home/apt  225.0             1.0               45.0    21-05-2019   \n",
       "2     Private room  150.0             3.0                0.0  Not_reviewed   \n",
       "3  Entire home/apt   89.0             1.0               58.5    05-07-2019   \n",
       "4  Entire home/apt   80.0            10.0                9.0    19-11-2018   \n",
       "\n",
       "   reviews_per_month calculated_host_listings_count availability_365  \n",
       "0               0.21                              6              365  \n",
       "1               0.38                              2              355  \n",
       "2               0.00                              1              365  \n",
       "3               3.89                              1              194  \n",
       "4               0.10                              1                0  "
      ],
      "text/html": [
       "<div>\n",
       "<style scoped>\n",
       "    .dataframe tbody tr th:only-of-type {\n",
       "        vertical-align: middle;\n",
       "    }\n",
       "\n",
       "    .dataframe tbody tr th {\n",
       "        vertical-align: top;\n",
       "    }\n",
       "\n",
       "    .dataframe thead th {\n",
       "        text-align: right;\n",
       "    }\n",
       "</style>\n",
       "<table border=\"1\" class=\"dataframe\">\n",
       "  <thead>\n",
       "    <tr style=\"text-align: right;\">\n",
       "      <th></th>\n",
       "      <th>id</th>\n",
       "      <th>name</th>\n",
       "      <th>host_id</th>\n",
       "      <th>host_name</th>\n",
       "      <th>neighbourhood_group</th>\n",
       "      <th>neighbourhood</th>\n",
       "      <th>latitude</th>\n",
       "      <th>longitude</th>\n",
       "      <th>room_type</th>\n",
       "      <th>price</th>\n",
       "      <th>minimum_nights</th>\n",
       "      <th>number_of_reviews</th>\n",
       "      <th>last_review</th>\n",
       "      <th>reviews_per_month</th>\n",
       "      <th>calculated_host_listings_count</th>\n",
       "      <th>availability_365</th>\n",
       "    </tr>\n",
       "  </thead>\n",
       "  <tbody>\n",
       "    <tr>\n",
       "      <th>0</th>\n",
       "      <td>2539</td>\n",
       "      <td>Clean &amp; quiet apt home by the park</td>\n",
       "      <td>2787</td>\n",
       "      <td>John</td>\n",
       "      <td>Brooklyn</td>\n",
       "      <td>Kensington</td>\n",
       "      <td>40.64749</td>\n",
       "      <td>-73.97237</td>\n",
       "      <td>Private room</td>\n",
       "      <td>149.0</td>\n",
       "      <td>1.0</td>\n",
       "      <td>9.0</td>\n",
       "      <td>19-10-2018</td>\n",
       "      <td>0.21</td>\n",
       "      <td>6</td>\n",
       "      <td>365</td>\n",
       "    </tr>\n",
       "    <tr>\n",
       "      <th>1</th>\n",
       "      <td>2595</td>\n",
       "      <td>Skylit Midtown Castle</td>\n",
       "      <td>2845</td>\n",
       "      <td>Jennifer</td>\n",
       "      <td>Manhattan</td>\n",
       "      <td>Midtown</td>\n",
       "      <td>40.75362</td>\n",
       "      <td>-73.98377</td>\n",
       "      <td>Entire home/apt</td>\n",
       "      <td>225.0</td>\n",
       "      <td>1.0</td>\n",
       "      <td>45.0</td>\n",
       "      <td>21-05-2019</td>\n",
       "      <td>0.38</td>\n",
       "      <td>2</td>\n",
       "      <td>355</td>\n",
       "    </tr>\n",
       "    <tr>\n",
       "      <th>2</th>\n",
       "      <td>3647</td>\n",
       "      <td>THE VILLAGE OF HARLEM....NEW YORK !</td>\n",
       "      <td>4632</td>\n",
       "      <td>Elisabeth</td>\n",
       "      <td>Manhattan</td>\n",
       "      <td>Harlem</td>\n",
       "      <td>40.80902</td>\n",
       "      <td>-73.9419</td>\n",
       "      <td>Private room</td>\n",
       "      <td>150.0</td>\n",
       "      <td>3.0</td>\n",
       "      <td>0.0</td>\n",
       "      <td>Not_reviewed</td>\n",
       "      <td>0.00</td>\n",
       "      <td>1</td>\n",
       "      <td>365</td>\n",
       "    </tr>\n",
       "    <tr>\n",
       "      <th>3</th>\n",
       "      <td>3831</td>\n",
       "      <td>Cozy Entire Floor of Brownstone</td>\n",
       "      <td>4869</td>\n",
       "      <td>LisaRoxanne</td>\n",
       "      <td>Brooklyn</td>\n",
       "      <td>Clinton Hill</td>\n",
       "      <td>40.68514</td>\n",
       "      <td>-73.95976</td>\n",
       "      <td>Entire home/apt</td>\n",
       "      <td>89.0</td>\n",
       "      <td>1.0</td>\n",
       "      <td>58.5</td>\n",
       "      <td>05-07-2019</td>\n",
       "      <td>3.89</td>\n",
       "      <td>1</td>\n",
       "      <td>194</td>\n",
       "    </tr>\n",
       "    <tr>\n",
       "      <th>4</th>\n",
       "      <td>5022</td>\n",
       "      <td>Entire Apt: Spacious Studio/Loft by central park</td>\n",
       "      <td>7192</td>\n",
       "      <td>Laura</td>\n",
       "      <td>Manhattan</td>\n",
       "      <td>East Harlem</td>\n",
       "      <td>40.79851</td>\n",
       "      <td>-73.94399</td>\n",
       "      <td>Entire home/apt</td>\n",
       "      <td>80.0</td>\n",
       "      <td>10.0</td>\n",
       "      <td>9.0</td>\n",
       "      <td>19-11-2018</td>\n",
       "      <td>0.10</td>\n",
       "      <td>1</td>\n",
       "      <td>0</td>\n",
       "    </tr>\n",
       "  </tbody>\n",
       "</table>\n",
       "</div>"
      ]
     },
     "execution_count": 37,
     "metadata": {},
     "output_type": "execute_result"
    }
   ],
   "execution_count": 37
  },
  {
   "metadata": {
    "ExecuteTime": {
     "end_time": "2025-05-28T15:30:28.866007Z",
     "start_time": "2025-05-28T15:30:28.822518Z"
    }
   },
   "cell_type": "code",
   "source": "reviews=df.groupby(['price','neighbourhood','number_of_reviews']).size().reset_index().rename(columns={0:\"Rating Count\"})",
   "id": "9b045807995bece9",
   "outputs": [],
   "execution_count": 38
  },
  {
   "metadata": {
    "ExecuteTime": {
     "end_time": "2025-05-28T15:30:31.511546Z",
     "start_time": "2025-05-28T15:30:31.485876Z"
    }
   },
   "cell_type": "code",
   "source": "reviews",
   "id": "799fdb281d22fa8a",
   "outputs": [
    {
     "data": {
      "text/plain": [
       "       price neighbourhood  number_of_reviews  Rating Count\n",
       "0       49.0      Allerton                0.0             3\n",
       "1       49.0      Allerton                1.0             2\n",
       "2       49.0      Allerton                2.0             2\n",
       "3       49.0      Allerton               21.0             1\n",
       "4       49.0      Allerton               38.0             1\n",
       "...      ...           ...                ...           ...\n",
       "27708  269.0      Woodside                7.0             1\n",
       "27709  269.0      Woodside               10.0             2\n",
       "27710  269.0      Woodside               11.0             1\n",
       "27711  269.0      Woodside               31.0             1\n",
       "27712  269.0      Woodside               58.5             2\n",
       "\n",
       "[27713 rows x 4 columns]"
      ],
      "text/html": [
       "<div>\n",
       "<style scoped>\n",
       "    .dataframe tbody tr th:only-of-type {\n",
       "        vertical-align: middle;\n",
       "    }\n",
       "\n",
       "    .dataframe tbody tr th {\n",
       "        vertical-align: top;\n",
       "    }\n",
       "\n",
       "    .dataframe thead th {\n",
       "        text-align: right;\n",
       "    }\n",
       "</style>\n",
       "<table border=\"1\" class=\"dataframe\">\n",
       "  <thead>\n",
       "    <tr style=\"text-align: right;\">\n",
       "      <th></th>\n",
       "      <th>price</th>\n",
       "      <th>neighbourhood</th>\n",
       "      <th>number_of_reviews</th>\n",
       "      <th>Rating Count</th>\n",
       "    </tr>\n",
       "  </thead>\n",
       "  <tbody>\n",
       "    <tr>\n",
       "      <th>0</th>\n",
       "      <td>49.0</td>\n",
       "      <td>Allerton</td>\n",
       "      <td>0.0</td>\n",
       "      <td>3</td>\n",
       "    </tr>\n",
       "    <tr>\n",
       "      <th>1</th>\n",
       "      <td>49.0</td>\n",
       "      <td>Allerton</td>\n",
       "      <td>1.0</td>\n",
       "      <td>2</td>\n",
       "    </tr>\n",
       "    <tr>\n",
       "      <th>2</th>\n",
       "      <td>49.0</td>\n",
       "      <td>Allerton</td>\n",
       "      <td>2.0</td>\n",
       "      <td>2</td>\n",
       "    </tr>\n",
       "    <tr>\n",
       "      <th>3</th>\n",
       "      <td>49.0</td>\n",
       "      <td>Allerton</td>\n",
       "      <td>21.0</td>\n",
       "      <td>1</td>\n",
       "    </tr>\n",
       "    <tr>\n",
       "      <th>4</th>\n",
       "      <td>49.0</td>\n",
       "      <td>Allerton</td>\n",
       "      <td>38.0</td>\n",
       "      <td>1</td>\n",
       "    </tr>\n",
       "    <tr>\n",
       "      <th>...</th>\n",
       "      <td>...</td>\n",
       "      <td>...</td>\n",
       "      <td>...</td>\n",
       "      <td>...</td>\n",
       "    </tr>\n",
       "    <tr>\n",
       "      <th>27708</th>\n",
       "      <td>269.0</td>\n",
       "      <td>Woodside</td>\n",
       "      <td>7.0</td>\n",
       "      <td>1</td>\n",
       "    </tr>\n",
       "    <tr>\n",
       "      <th>27709</th>\n",
       "      <td>269.0</td>\n",
       "      <td>Woodside</td>\n",
       "      <td>10.0</td>\n",
       "      <td>2</td>\n",
       "    </tr>\n",
       "    <tr>\n",
       "      <th>27710</th>\n",
       "      <td>269.0</td>\n",
       "      <td>Woodside</td>\n",
       "      <td>11.0</td>\n",
       "      <td>1</td>\n",
       "    </tr>\n",
       "    <tr>\n",
       "      <th>27711</th>\n",
       "      <td>269.0</td>\n",
       "      <td>Woodside</td>\n",
       "      <td>31.0</td>\n",
       "      <td>1</td>\n",
       "    </tr>\n",
       "    <tr>\n",
       "      <th>27712</th>\n",
       "      <td>269.0</td>\n",
       "      <td>Woodside</td>\n",
       "      <td>58.5</td>\n",
       "      <td>2</td>\n",
       "    </tr>\n",
       "  </tbody>\n",
       "</table>\n",
       "<p>27713 rows × 4 columns</p>\n",
       "</div>"
      ]
     },
     "execution_count": 39,
     "metadata": {},
     "output_type": "execute_result"
    }
   ],
   "execution_count": 39
  },
  {
   "metadata": {
    "ExecuteTime": {
     "end_time": "2025-05-28T15:36:07.259211Z",
     "start_time": "2025-05-28T15:36:06.979264Z"
    }
   },
   "cell_type": "code",
   "source": [
    "import matplotlib\n",
    "plt.figure(figsize=(14,6))\n",
    "top10 = reviews.groupby('neighbourhood')['Rating Count'].sum().nlargest(10).reset_index()\n",
    "sns.barplot(x=\"neighbourhood\",y=\"Rating Count\",data=top10,palette='Set1',hue='neighbourhood')\n",
    "plt.show()"
   ],
   "id": "5b01b3b4a723d2b7",
   "outputs": [
    {
     "data": {
      "text/plain": [
       "<Figure size 1400x600 with 1 Axes>"
      ],
      "image/png": "[encoded data removed]"
     },
     "metadata": {},
     "output_type": "display_data"
    }
   ],
   "execution_count": 49
  },
  {
   "metadata": {},
   "cell_type": "markdown",
   "source": [
    "### OBSERVATION--> The bar chart shows the top 10 neighbourhoods with the highest number of reviews.\n",
    "#### Williamsburg has the highest number of reviews, followed by Bedford-Stuyvesant and Harlem.\n",
    "#### The other neighbourhoods have a significantly lower number of reviews."
   ],
   "id": "f9cf317769a34aff"
  },
  {
   "metadata": {},
   "cell_type": "markdown",
   "source": "### Analysis which of the neighbourhood has the highest number of availability",
   "id": "2d6819aa6ba463cd"
  },
  {
   "metadata": {
    "ExecuteTime": {
     "end_time": "2025-05-28T15:47:12.866960Z",
     "start_time": "2025-05-28T15:47:12.842410Z"
    }
   },
   "cell_type": "code",
   "source": [
    "available=df.groupby(['neighbourhood','availability_365']).size().reset_index(name='counts')\n",
    "available"
   ],
   "id": "c0aa9e85c8cd9ece",
   "outputs": [
    {
     "data": {
      "text/plain": [
       "      neighbourhood availability_365  counts\n",
       "0          Allerton                0       5\n",
       "1          Allerton                1       1\n",
       "2          Allerton              155       1\n",
       "3          Allerton              157       1\n",
       "4          Allerton              169       1\n",
       "...             ...              ...     ...\n",
       "14176      Woodside               91       1\n",
       "14177      Woodside               93       1\n",
       "14178      Woodside               94       1\n",
       "14179      Woodside               95       1\n",
       "14180      Woodside               96       1\n",
       "\n",
       "[14181 rows x 3 columns]"
      ],
      "text/html": [
       "<div>\n",
       "<style scoped>\n",
       "    .dataframe tbody tr th:only-of-type {\n",
       "        vertical-align: middle;\n",
       "    }\n",
       "\n",
       "    .dataframe tbody tr th {\n",
       "        vertical-align: top;\n",
       "    }\n",
       "\n",
       "    .dataframe thead th {\n",
       "        text-align: right;\n",
       "    }\n",
       "</style>\n",
       "<table border=\"1\" class=\"dataframe\">\n",
       "  <thead>\n",
       "    <tr style=\"text-align: right;\">\n",
       "      <th></th>\n",
       "      <th>neighbourhood</th>\n",
       "      <th>availability_365</th>\n",
       "      <th>counts</th>\n",
       "    </tr>\n",
       "  </thead>\n",
       "  <tbody>\n",
       "    <tr>\n",
       "      <th>0</th>\n",
       "      <td>Allerton</td>\n",
       "      <td>0</td>\n",
       "      <td>5</td>\n",
       "    </tr>\n",
       "    <tr>\n",
       "      <th>1</th>\n",
       "      <td>Allerton</td>\n",
       "      <td>1</td>\n",
       "      <td>1</td>\n",
       "    </tr>\n",
       "    <tr>\n",
       "      <th>2</th>\n",
       "      <td>Allerton</td>\n",
       "      <td>155</td>\n",
       "      <td>1</td>\n",
       "    </tr>\n",
       "    <tr>\n",
       "      <th>3</th>\n",
       "      <td>Allerton</td>\n",
       "      <td>157</td>\n",
       "      <td>1</td>\n",
       "    </tr>\n",
       "    <tr>\n",
       "      <th>4</th>\n",
       "      <td>Allerton</td>\n",
       "      <td>169</td>\n",
       "      <td>1</td>\n",
       "    </tr>\n",
       "    <tr>\n",
       "      <th>...</th>\n",
       "      <td>...</td>\n",
       "      <td>...</td>\n",
       "      <td>...</td>\n",
       "    </tr>\n",
       "    <tr>\n",
       "      <th>14176</th>\n",
       "      <td>Woodside</td>\n",
       "      <td>91</td>\n",
       "      <td>1</td>\n",
       "    </tr>\n",
       "    <tr>\n",
       "      <th>14177</th>\n",
       "      <td>Woodside</td>\n",
       "      <td>93</td>\n",
       "      <td>1</td>\n",
       "    </tr>\n",
       "    <tr>\n",
       "      <th>14178</th>\n",
       "      <td>Woodside</td>\n",
       "      <td>94</td>\n",
       "      <td>1</td>\n",
       "    </tr>\n",
       "    <tr>\n",
       "      <th>14179</th>\n",
       "      <td>Woodside</td>\n",
       "      <td>95</td>\n",
       "      <td>1</td>\n",
       "    </tr>\n",
       "    <tr>\n",
       "      <th>14180</th>\n",
       "      <td>Woodside</td>\n",
       "      <td>96</td>\n",
       "      <td>1</td>\n",
       "    </tr>\n",
       "  </tbody>\n",
       "</table>\n",
       "<p>14181 rows × 3 columns</p>\n",
       "</div>"
      ]
     },
     "execution_count": 64,
     "metadata": {},
     "output_type": "execute_result"
    }
   ],
   "execution_count": 64
  },
  {
   "metadata": {
    "ExecuteTime": {
     "end_time": "2025-05-28T15:45:52.369702Z",
     "start_time": "2025-05-28T15:45:52.120067Z"
    }
   },
   "cell_type": "code",
   "source": [
    "top10_avail = available.groupby('neighbourhood')['counts'].sum().nlargest(10).reset_index()\n",
    "\n",
    "plt.figure(figsize=(14,6))\n",
    "sns.barplot(x='neighbourhood', y='counts', data=top10_avail, palette='Set2',hue='neighbourhood')\n",
    "plt.title('Top 10 Neighbourhoods by Total Availability (days)')\n",
    "plt.xlabel('Neighbourhood')\n",
    "plt.ylabel('Total Availability (days)')\n",
    "plt.xticks(rotation=45, ha='right')\n",
    "plt.tight_layout()\n",
    "plt.show()"
   ],
   "id": "2245fed793a972d6",
   "outputs": [
    {
     "data": {
      "text/plain": [
       "<Figure size 1400x600 with 1 Axes>"
      ],
      "image/png": "[encoded data removed]"
     },
     "metadata": {},
     "output_type": "display_data"
    }
   ],
   "execution_count": 62
  },
  {
   "metadata": {},
   "cell_type": "markdown",
   "source": [
    "#### OBSERVATION--> The bar chart shows the top 10 neighbourhoods with the highest number of availability.\n",
    "#### Williamsburg has the highest number of availability, followed by Bedford-Stuyvesant and Harlem.\n"
   ],
   "id": "5e32bbf3812ba9d1"
  },
  {
   "metadata": {},
   "cell_type": "markdown",
   "source": [
    "### Conclusion\n",
    "#### 1. The most popular neighbourhood group is Manhattan, followed by Brooklyn and Queens.\n",
    "#### 2. The heatmap shows the count of listings by neighbourhood group and price, with Manhattan having the highest count across all price ranges.\n",
    "#### 3. The room type analysis shows that Entire home/apt has the highest count of listings across all price ranges, followed by Private room and Shared room."
   ],
   "id": "929e9edbfa4135c2"
  }
 ],
 "metadata": {
  "kernelspec": {
   "display_name": "Python 3",
   "language": "python",
   "name": "python3"
  },
  "language_info": {
   "codemirror_mode": {
    "name": "ipython",
    "version": 2
   },
   "file_extension": ".py",
   "mimetype": "text/x-python",
   "name": "python",
   "nbconvert_exporter": "python",
   "pygments_lexer": "ipython2",
   "version": "2.7.6"
  }
 },
 "nbformat": 4,
 "nbformat_minor": 5
}
